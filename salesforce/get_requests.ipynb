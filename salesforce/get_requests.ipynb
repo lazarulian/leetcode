{
 "cells": [
  {
   "cell_type": "code",
   "execution_count": 57,
   "metadata": {},
   "outputs": [
    {
     "name": "stdout",
     "output_type": "stream",
     "text": [
      "Hello\n"
     ]
    }
   ],
   "source": [
    "print(\"Hello\")"
   ]
  },
  {
   "cell_type": "code",
   "execution_count": 86,
   "metadata": {},
   "outputs": [],
   "source": [
    "def returnLogs(input):\n",
    "    fart = set()\n",
    "    with open(input) as f_in:\n",
    "        for line in f_in:\n",
    "            new_line = line.upper()\n",
    "            gif_ind = new_line.find(\".GIF\")\n",
    "            if gif_ind != -1:\n",
    "                new_line = new_line[gif_ind:]\n",
    "                ind = new_line.find('\\\"')\n",
    "                new_line = new_line[ind+2:ind+5]\n",
    "                if new_line == '200':\n",
    "                    new_line = line[:gif_ind+4]\n",
    "                    new_string = \"\"\n",
    "                    for c in reversed(new_line):\n",
    "                        if c == '/':\n",
    "                            break\n",
    "                        new_string += c\n",
    "\n",
    "                    new_string = new_string[::-1]\n",
    "                    fart.add(new_string)\n",
    "    \n",
    "    name = str(input)[::-1]\n",
    "    rev = \"gifs_\"\n",
    "    name += rev[::-1]\n",
    "    name = name[::-1]\n",
    "\n",
    "    f = open(name, \"w\")\n",
    "    for item in fart:\n",
    "        f.write(str(item))\n",
    "        f.write('\\n')\n",
    "    f.close\n",
    "\n",
    "    return f\n",
    "\n",
    "new = returnLogs(\"file1.txt\")"
   ]
  }
 ],
 "metadata": {
  "kernelspec": {
   "display_name": "Python 3.8.13 ('Yolov5-Flask')",
   "language": "python",
   "name": "python3"
  },
  "language_info": {
   "codemirror_mode": {
    "name": "ipython",
    "version": 3
   },
   "file_extension": ".py",
   "mimetype": "text/x-python",
   "name": "python",
   "nbconvert_exporter": "python",
   "pygments_lexer": "ipython3",
   "version": "3.8.13"
  },
  "orig_nbformat": 4,
  "vscode": {
   "interpreter": {
    "hash": "453c0f9585a3816565bb963163d64bc678692c40b8ff509606e896b4da0d5800"
   }
  }
 },
 "nbformat": 4,
 "nbformat_minor": 2
}
